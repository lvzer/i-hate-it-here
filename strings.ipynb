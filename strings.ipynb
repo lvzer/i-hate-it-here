{
 "cells": [
  {
   "cell_type": "markdown",
   "id": "93f8b57d",
   "metadata": {},
   "source": [
    "# Strings"
   ]
  },
  {
   "cell_type": "code",
   "execution_count": 1,
   "id": "3b62cd17",
   "metadata": {
    "ExecuteTime": {
     "end_time": "2023-10-27T21:07:28.700790Z",
     "start_time": "2023-10-27T21:07:28.687417Z"
    }
   },
   "outputs": [
    {
     "name": "stdout",
     "output_type": "stream",
     "text": [
      "much.very.program.this.like.i\n"
     ]
    }
   ],
   "source": [
    "# reverse strings without reversing words, separated by .\n",
    "\n",
    "def reversewords(s):\n",
    "    words = s.split(\".\")\n",
    "    words.reverse()\n",
    "    x = \".\".join(words)\n",
    "    print(x)\n",
    "    \n",
    "s = \"i.like.this.program.very.much\"\n",
    "reversewords(s)"
   ]
  }
 ],
 "metadata": {
  "kernelspec": {
   "display_name": "Python 3",
   "language": "python",
   "name": "python3"
  },
  "language_info": {
   "codemirror_mode": {
    "name": "ipython",
    "version": 3
   },
   "file_extension": ".py",
   "mimetype": "text/x-python",
   "name": "python",
   "nbconvert_exporter": "python",
   "pygments_lexer": "ipython3",
   "version": "3.6.13"
  }
 },
 "nbformat": 4,
 "nbformat_minor": 5
}
