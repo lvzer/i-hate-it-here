{
 "cells": [
  {
   "cell_type": "markdown",
   "id": "b7a8feec",
   "metadata": {},
   "source": [
    "# Arrays\n",
    "----"
   ]
  },
  {
   "cell_type": "code",
   "execution_count": 9,
   "id": "363d69c9",
   "metadata": {
    "ExecuteTime": {
     "end_time": "2023-10-27T20:10:34.047191Z",
     "start_time": "2023-10-27T20:10:34.028731Z"
    }
   },
   "outputs": [
    {
     "name": "stdout",
     "output_type": "stream",
     "text": [
      "Sum found between  0 and 1\n"
     ]
    }
   ],
   "source": [
    "#  find a continuous sub-array that adds to a given number S and return the left \n",
    "# and right index(1-based indexing) of that subarray.\n",
    "\n",
    "def subarray(a, n, sum):\n",
    "    for i in range(n):\n",
    "        check = a[i]\n",
    "\n",
    "        if check == sum:\n",
    "            print(\"Sum found at \", i)\n",
    "            return\n",
    "        \n",
    "        else:\n",
    "            for j in range(i+1, n):\n",
    "                check += a[j]\n",
    "                if(check == sum):\n",
    "                    print(\"Sum found between \", i, \"and\", j)\n",
    "                    return\n",
    "    print(\"Subarray not found\")\n",
    "\n",
    "a = [4, 8, 2, 8, 19, 24, 9, 10]\n",
    "n = len(a)\n",
    "sum = 12\n",
    "subarray(a, n, sum)"
   ]
  },
  {
   "cell_type": "code",
   "execution_count": 29,
   "id": "95d4442b",
   "metadata": {
    "ExecuteTime": {
     "end_time": "2023-10-27T20:46:43.460807Z",
     "start_time": "2023-10-27T20:46:43.438808Z"
    }
   },
   "outputs": [
    {
     "name": "stdout",
     "output_type": "stream",
     "text": [
      "5 1 3\n",
      "5 1 4\n",
      "5 1 7\n",
      "5 3 4\n",
      "5 3 7\n",
      "5 4 7\n",
      "1 3 4\n",
      "1 3 7\n",
      "1 4 7\n",
      "3 4 7\n",
      "Number of combinations:  4\n"
     ]
    }
   ],
   "source": [
    "# counting triplets s.t sum of elements is less than the sum\n",
    "\n",
    "def triplets(a, n, sum):\n",
    "    counter = 0\n",
    "    for i in range(n-2):\n",
    "        for j in range(i+1, n-1):\n",
    "            for k in range(j+1, n):\n",
    "                print(a[i], a[j], a[k])\n",
    "                if a[i] + a[j] + a[k] < sum:\n",
    "                    counter+=1\n",
    "    return counter\n",
    "    \n",
    "# a = [1, 25, 3, 2]\n",
    "a = [5, 1, 3, 4, 7]\n",
    "n = len(a)\n",
    "sum = 12\n",
    "print(\"Number of combinations: \", triplets(a, n, sum))"
   ]
  },
  {
   "cell_type": "code",
   "execution_count": 33,
   "id": "60898811",
   "metadata": {
    "ExecuteTime": {
     "end_time": "2023-10-27T20:52:30.310981Z",
     "start_time": "2023-10-27T20:52:30.291690Z"
    }
   },
   "outputs": [
    {
     "name": "stdout",
     "output_type": "stream",
     "text": [
      "Found the sum of  3 and 2 = 5\n",
      "Found the sum of  1 and 2 = 3\n",
      "Number of combinations:  2\n"
     ]
    }
   ],
   "source": [
    "# counting triplets s.t sum of 2 elements = 3rd element\n",
    "\n",
    "def triplets(a, n):\n",
    "    counter = 0\n",
    "    for k in range(n):\n",
    "        check = a[k]\n",
    "        for i in range(n):\n",
    "            for j in range(i+1, n):\n",
    "                if a[i]+a[j] == check:\n",
    "                    print(\"Found the sum of \", a[i], \"and\", a[j], \"=\", check)\n",
    "                    counter += 1\n",
    "    return counter\n",
    "    \n",
    "\n",
    "a = [1, 5, 3, 2]\n",
    "n = len(a)\n",
    "print(\"Number of combinations: \", triplets(a, n))"
   ]
  },
  {
   "cell_type": "code",
   "execution_count": 16,
   "id": "21d7f1ce",
   "metadata": {},
   "outputs": [
    {
     "name": "stdout",
     "output_type": "stream",
     "text": [
      "[-1, -1, 2]\n",
      "[-1, 0, 1]\n",
      "[-1, 0, 1]\n",
      "[[-1, -1, 2], [-1, 0, 1]]\n"
     ]
    }
   ],
   "source": [
    "# Given an integer array nums, return all the triplets [nums[i], nums[j], nums[k]] such that i != j, i != k, and j != k, and nums[i] + nums[j] + nums[k] == 0.\n",
    "\n",
    "# Notice that the solution set must not contain duplicate triplets.\n",
    "\n",
    "def threeSum(nums):\n",
    "        \"\"\"\n",
    "        :type nums: List[int]\n",
    "        :rtype: List[List[int]]\n",
    "        \"\"\"\n",
    "        n = len(nums)\n",
    "        nums.sort()\n",
    "        finallist = []\n",
    "        for i in range(n-2):\n",
    "            for j in range(i+1, n-1):\n",
    "                for k in range(j+1, n):\n",
    "                    midlist = []\n",
    "                    # print(a[i], a[j], a[k])\n",
    "                    if a[i] + a[j] + a[k] == 0:\n",
    "                        midlist.append(a[i])\n",
    "                        midlist.append(a[j])\n",
    "                        midlist.append(a[k])\n",
    "                        print(midlist)\n",
    "                        if midlist in finallist:\n",
    "                            break\n",
    "                        else:\n",
    "                            finallist.append(midlist)\n",
    "        return finallist\n",
    "\n",
    "a = [-1,0,1,2,-1,-4]\n",
    "print(threeSum(a))"
   ]
  },
  {
   "cell_type": "code",
   "execution_count": null,
   "id": "c2289857",
   "metadata": {},
   "outputs": [],
   "source": []
  }
 ],
 "metadata": {
  "kernelspec": {
   "display_name": "Python 3",
   "language": "python",
   "name": "python3"
  },
  "language_info": {
   "codemirror_mode": {
    "name": "ipython",
    "version": 3
   },
   "file_extension": ".py",
   "mimetype": "text/x-python",
   "name": "python",
   "nbconvert_exporter": "python",
   "pygments_lexer": "ipython3",
   "version": "3.6.13"
  }
 },
 "nbformat": 4,
 "nbformat_minor": 5
}
